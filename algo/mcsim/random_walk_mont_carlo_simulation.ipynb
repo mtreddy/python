{
 "cells": [
  {
   "cell_type": "code",
   "execution_count": 1,
   "metadata": {},
   "outputs": [
    {
     "name": "stdout",
     "output_type": "stream",
     "text": [
      "(1, -1) Distance from home= 2\n",
      "(0, -2) Distance from home= 2\n",
      "(-2, 0) Distance from home= 2\n",
      "(-3, 1) Distance from home= 4\n",
      "(-3, 3) Distance from home= 6\n",
      "(6, 0) Distance from home= 6\n",
      "(-2, 2) Distance from home= 4\n",
      "(-3, -1) Distance from home= 4\n",
      "(-1, 3) Distance from home= 4\n",
      "(0, 2) Distance from home= 2\n",
      "(0, 0) Distance from home= 0\n",
      "(-5, 1) Distance from home= 6\n",
      "(-1, -1) Distance from home= 2\n",
      "(0, 0) Distance from home= 0\n",
      "(-1, 1) Distance from home= 2\n",
      "(1, -1) Distance from home= 2\n",
      "(-2, 0) Distance from home= 2\n",
      "(-2, 2) Distance from home= 4\n",
      "(-2, 0) Distance from home= 2\n",
      "(-3, -1) Distance from home= 4\n",
      "(-1, 3) Distance from home= 4\n",
      "(0, 0) Distance from home= 0\n",
      "(4, -2) Distance from home= 6\n",
      "(-4, -2) Distance from home= 6\n",
      "(-1, -3) Distance from home= 4\n"
     ]
    }
   ],
   "source": [
    "import random\n",
    "def random_walk(n):\n",
    "    \"\"\"Random walk co-ordinates after n walks\"\"\"\n",
    "    x = 0\n",
    "    y = 0\n",
    "    for i in range(n):\n",
    "        step = random.choice(['N','S','E','W'])\n",
    "        if step == 'N':\n",
    "            y = y + 1\n",
    "        elif step == 'S':\n",
    "            y = y - 1\n",
    "        elif step == 'E':\n",
    "            x = x + 1\n",
    "        else:\n",
    "            x = x -1\n",
    "    return (x, y)\n",
    "\n",
    "for i in range(25):\n",
    "    walk = random_walk(10)\n",
    "    print(walk, \"Distance from home=\", abs(walk[0]) + abs(walk[1]))\n"
   ]
  },
  {
   "cell_type": "code",
   "execution_count": 2,
   "metadata": {},
   "outputs": [
    {
     "name": "stdout",
     "output_type": "stream",
     "text": [
      "(1, -1) Distance from home= 2\n",
      "(-2, 2) Distance from home= 4\n",
      "(-4, 4) Distance from home= 8\n",
      "(2, 4) Distance from home= 6\n",
      "(4, -4) Distance from home= 8\n",
      "(-2, -2) Distance from home= 4\n",
      "(0, -4) Distance from home= 4\n",
      "(0, 0) Distance from home= 0\n",
      "(-1, 3) Distance from home= 4\n",
      "(-3, -1) Distance from home= 4\n",
      "(2, -6) Distance from home= 8\n",
      "(2, -2) Distance from home= 4\n",
      "(5, 1) Distance from home= 6\n",
      "(-1, 5) Distance from home= 6\n",
      "(3, 1) Distance from home= 4\n",
      "(1, -1) Distance from home= 2\n",
      "(1, -1) Distance from home= 2\n",
      "(1, -3) Distance from home= 4\n",
      "(-1, 1) Distance from home= 2\n",
      "(-2, 2) Distance from home= 4\n",
      "(3, -1) Distance from home= 4\n",
      "(-2, 4) Distance from home= 6\n",
      "(-4, 0) Distance from home= 4\n",
      "(2, 0) Distance from home= 2\n",
      "(-2, 0) Distance from home= 2\n"
     ]
    }
   ],
   "source": [
    "def random_walk1(n):\n",
    "    \"\"\"Return cooardinates after 'n' block random walk.\"\"\"\n",
    "    x, y = 0, 0\n",
    "    for i in range(n):\n",
    "        (dx, dy) = random.choice([(0,1),(0,-1),(1,0),(-1,0)])\n",
    "        x += dx\n",
    "        y += dy\n",
    "    return (x,y)\n",
    "for i in range(25):\n",
    "    walk = random_walk(10)\n",
    "    print(walk, \"Distance from home=\", abs(walk[0]) + abs(walk[1]))\n"
   ]
  },
  {
   "cell_type": "code",
   "execution_count": 5,
   "metadata": {},
   "outputs": [
    {
     "name": "stdout",
     "output_type": "stream",
     "text": [
      "walk sze = 1 /% of no tr = 100.0\n",
      "walk sze = 2 /% of no tr = 100.0\n",
      "walk sze = 3 /% of no tr = 100.0\n",
      "walk sze = 4 /% of no tr = 100.0\n",
      "walk sze = 5 /% of no tr = 87.6\n",
      "walk sze = 6 /% of no tr = 94.11\n",
      "walk sze = 7 /% of no tr = 76.44\n",
      "walk sze = 8 /% of no tr = 85.9\n",
      "walk sze = 9 /% of no tr = 66.97999999999999\n",
      "walk sze = 10 /% of no tr = 79.135\n",
      "walk sze = 11 /% of no tr = 59.705\n",
      "walk sze = 12 /% of no tr = 72.92\n",
      "walk sze = 13 /% of no tr = 53.559999999999995\n",
      "walk sze = 14 /% of no tr = 67.10000000000001\n",
      "walk sze = 15 /% of no tr = 48.585\n",
      "walk sze = 16 /% of no tr = 62.519999999999996\n",
      "walk sze = 17 /% of no tr = 44.615\n",
      "walk sze = 18 /% of no tr = 57.705\n",
      "walk sze = 19 /% of no tr = 40.849999999999994\n",
      "walk sze = 20 /% of no tr = 53.87\n",
      "walk sze = 21 /% of no tr = 38.17\n",
      "walk sze = 22 /% of no tr = 51.470000000000006\n",
      "walk sze = 23 /% of no tr = 35.265\n",
      "walk sze = 24 /% of no tr = 47.449999999999996\n",
      "walk sze = 25 /% of no tr = 32.93\n",
      "walk sze = 26 /% of no tr = 45.01\n",
      "walk sze = 27 /% of no tr = 31.19\n",
      "walk sze = 28 /% of no tr = 43.2\n",
      "walk sze = 29 /% of no tr = 29.325000000000003\n",
      "walk sze = 30 /% of no tr = 40.61\n"
     ]
    }
   ],
   "source": [
    "no_of_walks = 20000\n",
    "for walk_len in range(1, 31):\n",
    "    no_tr = 0\n",
    "    for i in range(no_of_walks):\n",
    "        (x, y) = random_walk1(walk_len)\n",
    "        dist = abs(x) + abs(y)\n",
    "        if dist <= 4:\n",
    "            no_tr += 1\n",
    "    no_tr_percentage = float(no_tr)/no_of_walks\n",
    "    print(\"walk sze =\", walk_len, \"/% of no tr =\", 100*no_tr_percentage)\n",
    "    "
   ]
  },
  {
   "cell_type": "code",
   "execution_count": null,
   "metadata": {},
   "outputs": [],
   "source": []
  }
 ],
 "metadata": {
  "kernelspec": {
   "display_name": "Python 3",
   "language": "python",
   "name": "python3"
  },
  "language_info": {
   "codemirror_mode": {
    "name": "ipython",
    "version": 3
   },
   "file_extension": ".py",
   "mimetype": "text/x-python",
   "name": "python",
   "nbconvert_exporter": "python",
   "pygments_lexer": "ipython3",
   "version": "3.7.0b4"
  }
 },
 "nbformat": 4,
 "nbformat_minor": 2
}
